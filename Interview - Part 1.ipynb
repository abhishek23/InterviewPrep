{
 "cells": [
  {
   "cell_type": "code",
   "execution_count": 90,
   "id": "5efa215c",
   "metadata": {},
   "outputs": [],
   "source": [
    "import pandas as pd\n",
    "import numpy as np"
   ]
  },
  {
   "cell_type": "markdown",
   "id": "928c4fd5",
   "metadata": {},
   "source": [
    "#### Q. 24"
   ]
  },
  {
   "cell_type": "code",
   "execution_count": 2,
   "id": "f19aa5cd",
   "metadata": {},
   "outputs": [],
   "source": [
    "# Question No 24 starts here"
   ]
  },
  {
   "cell_type": "code",
   "execution_count": 8,
   "id": "514e8e6c",
   "metadata": {},
   "outputs": [],
   "source": [
    "df = pd.DataFrame({\n",
    "    'EmpId': [11, 12, 13, 14, 15],\n",
    "    'EmpSalary': [20000, 21000, np.NaN, 21500, np.NaN]\n",
    "})"
   ]
  },
  {
   "cell_type": "code",
   "execution_count": 9,
   "id": "131fc642",
   "metadata": {},
   "outputs": [
    {
     "data": {
      "text/html": [
       "<div>\n",
       "<style scoped>\n",
       "    .dataframe tbody tr th:only-of-type {\n",
       "        vertical-align: middle;\n",
       "    }\n",
       "\n",
       "    .dataframe tbody tr th {\n",
       "        vertical-align: top;\n",
       "    }\n",
       "\n",
       "    .dataframe thead th {\n",
       "        text-align: right;\n",
       "    }\n",
       "</style>\n",
       "<table border=\"1\" class=\"dataframe\">\n",
       "  <thead>\n",
       "    <tr style=\"text-align: right;\">\n",
       "      <th></th>\n",
       "      <th>EmpId</th>\n",
       "      <th>EmpSalary</th>\n",
       "    </tr>\n",
       "  </thead>\n",
       "  <tbody>\n",
       "    <tr>\n",
       "      <th>0</th>\n",
       "      <td>11</td>\n",
       "      <td>20000.0</td>\n",
       "    </tr>\n",
       "    <tr>\n",
       "      <th>1</th>\n",
       "      <td>12</td>\n",
       "      <td>21000.0</td>\n",
       "    </tr>\n",
       "    <tr>\n",
       "      <th>2</th>\n",
       "      <td>13</td>\n",
       "      <td>NaN</td>\n",
       "    </tr>\n",
       "    <tr>\n",
       "      <th>3</th>\n",
       "      <td>14</td>\n",
       "      <td>21500.0</td>\n",
       "    </tr>\n",
       "    <tr>\n",
       "      <th>4</th>\n",
       "      <td>15</td>\n",
       "      <td>NaN</td>\n",
       "    </tr>\n",
       "  </tbody>\n",
       "</table>\n",
       "</div>"
      ],
      "text/plain": [
       "   EmpId  EmpSalary\n",
       "0     11    20000.0\n",
       "1     12    21000.0\n",
       "2     13        NaN\n",
       "3     14    21500.0\n",
       "4     15        NaN"
      ]
     },
     "execution_count": 9,
     "metadata": {},
     "output_type": "execute_result"
    }
   ],
   "source": [
    "df"
   ]
  },
  {
   "cell_type": "code",
   "execution_count": 10,
   "id": "795c1ef1",
   "metadata": {},
   "outputs": [],
   "source": [
    "df.EmpSalary = df.EmpSalary.ffill()"
   ]
  },
  {
   "cell_type": "code",
   "execution_count": 11,
   "id": "71014a8d",
   "metadata": {},
   "outputs": [
    {
     "data": {
      "text/html": [
       "<div>\n",
       "<style scoped>\n",
       "    .dataframe tbody tr th:only-of-type {\n",
       "        vertical-align: middle;\n",
       "    }\n",
       "\n",
       "    .dataframe tbody tr th {\n",
       "        vertical-align: top;\n",
       "    }\n",
       "\n",
       "    .dataframe thead th {\n",
       "        text-align: right;\n",
       "    }\n",
       "</style>\n",
       "<table border=\"1\" class=\"dataframe\">\n",
       "  <thead>\n",
       "    <tr style=\"text-align: right;\">\n",
       "      <th></th>\n",
       "      <th>EmpId</th>\n",
       "      <th>EmpSalary</th>\n",
       "    </tr>\n",
       "  </thead>\n",
       "  <tbody>\n",
       "    <tr>\n",
       "      <th>0</th>\n",
       "      <td>11</td>\n",
       "      <td>20000.0</td>\n",
       "    </tr>\n",
       "    <tr>\n",
       "      <th>1</th>\n",
       "      <td>12</td>\n",
       "      <td>21000.0</td>\n",
       "    </tr>\n",
       "    <tr>\n",
       "      <th>2</th>\n",
       "      <td>13</td>\n",
       "      <td>21000.0</td>\n",
       "    </tr>\n",
       "    <tr>\n",
       "      <th>3</th>\n",
       "      <td>14</td>\n",
       "      <td>21500.0</td>\n",
       "    </tr>\n",
       "    <tr>\n",
       "      <th>4</th>\n",
       "      <td>15</td>\n",
       "      <td>21500.0</td>\n",
       "    </tr>\n",
       "  </tbody>\n",
       "</table>\n",
       "</div>"
      ],
      "text/plain": [
       "   EmpId  EmpSalary\n",
       "0     11    20000.0\n",
       "1     12    21000.0\n",
       "2     13    21000.0\n",
       "3     14    21500.0\n",
       "4     15    21500.0"
      ]
     },
     "execution_count": 11,
     "metadata": {},
     "output_type": "execute_result"
    }
   ],
   "source": [
    "df"
   ]
  },
  {
   "cell_type": "code",
   "execution_count": 12,
   "id": "c4f7424c",
   "metadata": {},
   "outputs": [],
   "source": [
    "# Question No 24 ends here"
   ]
  },
  {
   "cell_type": "markdown",
   "id": "55646424",
   "metadata": {},
   "source": [
    "#### Q. 25"
   ]
  },
  {
   "cell_type": "code",
   "execution_count": 13,
   "id": "d36ba0fb",
   "metadata": {},
   "outputs": [],
   "source": [
    "# Question No 25 starts here"
   ]
  },
  {
   "cell_type": "code",
   "execution_count": 14,
   "id": "20c68924",
   "metadata": {},
   "outputs": [],
   "source": [
    "a = [6, 3, 8, 'hi', 76, 'exam']\n",
    "b = ['First', 65, 78]"
   ]
  },
  {
   "cell_type": "code",
   "execution_count": 15,
   "id": "57fbd646",
   "metadata": {},
   "outputs": [],
   "source": [
    "result = a + b"
   ]
  },
  {
   "cell_type": "code",
   "execution_count": 16,
   "id": "afd74236",
   "metadata": {},
   "outputs": [
    {
     "data": {
      "text/plain": [
       "[6, 3, 8, 'hi', 76, 'exam', 'First', 65, 78]"
      ]
     },
     "execution_count": 16,
     "metadata": {},
     "output_type": "execute_result"
    }
   ],
   "source": [
    "result"
   ]
  },
  {
   "cell_type": "code",
   "execution_count": 17,
   "id": "da7e8a87",
   "metadata": {},
   "outputs": [],
   "source": [
    "# Question No 25 ends here"
   ]
  },
  {
   "cell_type": "markdown",
   "id": "0d27b967",
   "metadata": {},
   "source": [
    "#### Q. 26"
   ]
  },
  {
   "cell_type": "code",
   "execution_count": 18,
   "id": "dfa8c9b6",
   "metadata": {},
   "outputs": [],
   "source": [
    "# Question No 26 starts here"
   ]
  },
  {
   "cell_type": "code",
   "execution_count": 19,
   "id": "6e65a3fa",
   "metadata": {},
   "outputs": [],
   "source": [
    "df = pd.DataFrame({\n",
    "    'Product': 'A B C D E F'.split(),\n",
    "    'Quality': [3, 4, 1, 6, 3, 8],\n",
    "    'Price': [3400, 3244, 5645, 7587, 7858, 4572]\n",
    "})"
   ]
  },
  {
   "cell_type": "code",
   "execution_count": 20,
   "id": "dce522d9",
   "metadata": {},
   "outputs": [
    {
     "data": {
      "text/html": [
       "<div>\n",
       "<style scoped>\n",
       "    .dataframe tbody tr th:only-of-type {\n",
       "        vertical-align: middle;\n",
       "    }\n",
       "\n",
       "    .dataframe tbody tr th {\n",
       "        vertical-align: top;\n",
       "    }\n",
       "\n",
       "    .dataframe thead th {\n",
       "        text-align: right;\n",
       "    }\n",
       "</style>\n",
       "<table border=\"1\" class=\"dataframe\">\n",
       "  <thead>\n",
       "    <tr style=\"text-align: right;\">\n",
       "      <th></th>\n",
       "      <th>Product</th>\n",
       "      <th>Quality</th>\n",
       "      <th>Price</th>\n",
       "    </tr>\n",
       "  </thead>\n",
       "  <tbody>\n",
       "    <tr>\n",
       "      <th>0</th>\n",
       "      <td>A</td>\n",
       "      <td>3</td>\n",
       "      <td>3400</td>\n",
       "    </tr>\n",
       "    <tr>\n",
       "      <th>1</th>\n",
       "      <td>B</td>\n",
       "      <td>4</td>\n",
       "      <td>3244</td>\n",
       "    </tr>\n",
       "    <tr>\n",
       "      <th>2</th>\n",
       "      <td>C</td>\n",
       "      <td>1</td>\n",
       "      <td>5645</td>\n",
       "    </tr>\n",
       "    <tr>\n",
       "      <th>3</th>\n",
       "      <td>D</td>\n",
       "      <td>6</td>\n",
       "      <td>7587</td>\n",
       "    </tr>\n",
       "    <tr>\n",
       "      <th>4</th>\n",
       "      <td>E</td>\n",
       "      <td>3</td>\n",
       "      <td>7858</td>\n",
       "    </tr>\n",
       "    <tr>\n",
       "      <th>5</th>\n",
       "      <td>F</td>\n",
       "      <td>8</td>\n",
       "      <td>4572</td>\n",
       "    </tr>\n",
       "  </tbody>\n",
       "</table>\n",
       "</div>"
      ],
      "text/plain": [
       "  Product  Quality  Price\n",
       "0       A        3   3400\n",
       "1       B        4   3244\n",
       "2       C        1   5645\n",
       "3       D        6   7587\n",
       "4       E        3   7858\n",
       "5       F        8   4572"
      ]
     },
     "execution_count": 20,
     "metadata": {},
     "output_type": "execute_result"
    }
   ],
   "source": [
    "df"
   ]
  },
  {
   "cell_type": "code",
   "execution_count": 21,
   "id": "f6769ff3",
   "metadata": {},
   "outputs": [],
   "source": [
    "df.Quality = df.Quality.apply(lambda x: 0 if x <= 5 else 1)"
   ]
  },
  {
   "cell_type": "code",
   "execution_count": 22,
   "id": "08d82352",
   "metadata": {},
   "outputs": [
    {
     "data": {
      "text/html": [
       "<div>\n",
       "<style scoped>\n",
       "    .dataframe tbody tr th:only-of-type {\n",
       "        vertical-align: middle;\n",
       "    }\n",
       "\n",
       "    .dataframe tbody tr th {\n",
       "        vertical-align: top;\n",
       "    }\n",
       "\n",
       "    .dataframe thead th {\n",
       "        text-align: right;\n",
       "    }\n",
       "</style>\n",
       "<table border=\"1\" class=\"dataframe\">\n",
       "  <thead>\n",
       "    <tr style=\"text-align: right;\">\n",
       "      <th></th>\n",
       "      <th>Product</th>\n",
       "      <th>Quality</th>\n",
       "      <th>Price</th>\n",
       "    </tr>\n",
       "  </thead>\n",
       "  <tbody>\n",
       "    <tr>\n",
       "      <th>0</th>\n",
       "      <td>A</td>\n",
       "      <td>0</td>\n",
       "      <td>3400</td>\n",
       "    </tr>\n",
       "    <tr>\n",
       "      <th>1</th>\n",
       "      <td>B</td>\n",
       "      <td>0</td>\n",
       "      <td>3244</td>\n",
       "    </tr>\n",
       "    <tr>\n",
       "      <th>2</th>\n",
       "      <td>C</td>\n",
       "      <td>0</td>\n",
       "      <td>5645</td>\n",
       "    </tr>\n",
       "    <tr>\n",
       "      <th>3</th>\n",
       "      <td>D</td>\n",
       "      <td>1</td>\n",
       "      <td>7587</td>\n",
       "    </tr>\n",
       "    <tr>\n",
       "      <th>4</th>\n",
       "      <td>E</td>\n",
       "      <td>0</td>\n",
       "      <td>7858</td>\n",
       "    </tr>\n",
       "    <tr>\n",
       "      <th>5</th>\n",
       "      <td>F</td>\n",
       "      <td>1</td>\n",
       "      <td>4572</td>\n",
       "    </tr>\n",
       "  </tbody>\n",
       "</table>\n",
       "</div>"
      ],
      "text/plain": [
       "  Product  Quality  Price\n",
       "0       A        0   3400\n",
       "1       B        0   3244\n",
       "2       C        0   5645\n",
       "3       D        1   7587\n",
       "4       E        0   7858\n",
       "5       F        1   4572"
      ]
     },
     "execution_count": 22,
     "metadata": {},
     "output_type": "execute_result"
    }
   ],
   "source": [
    "df"
   ]
  },
  {
   "cell_type": "code",
   "execution_count": 23,
   "id": "e4bf8835",
   "metadata": {},
   "outputs": [],
   "source": [
    "# Question No 26 ends here"
   ]
  },
  {
   "cell_type": "markdown",
   "id": "29c02651",
   "metadata": {},
   "source": [
    "#### Q. 27"
   ]
  },
  {
   "cell_type": "code",
   "execution_count": 24,
   "id": "f19d6f2f",
   "metadata": {},
   "outputs": [],
   "source": [
    "# Question No 27 starts here"
   ]
  },
  {
   "cell_type": "raw",
   "id": "604b53a2",
   "metadata": {},
   "source": [
    "SELECT sd.student_name\n",
    "FROM TrainingDetail td\n",
    "JOIN StudentDetail sd USING (student_id)\n",
    "GROUP BY td.student_id\n",
    "HAVING COUNT(td.id) > 1\n",
    "ORDER BY 1"
   ]
  },
  {
   "cell_type": "code",
   "execution_count": 25,
   "id": "a381b23c",
   "metadata": {},
   "outputs": [],
   "source": [
    "# Question No 27 ends here"
   ]
  },
  {
   "cell_type": "markdown",
   "id": "1affa9d4",
   "metadata": {},
   "source": [
    "#### Q. 28"
   ]
  },
  {
   "cell_type": "code",
   "execution_count": 26,
   "id": "c32ae4e5",
   "metadata": {},
   "outputs": [],
   "source": [
    "# Question No 28 starts here"
   ]
  },
  {
   "cell_type": "markdown",
   "id": "b7a746eb",
   "metadata": {},
   "source": [
    "The query mentioned in the question will return only one row,\n",
    "\n",
    "```\n",
    "    Id   Name            ReferredBy\n",
    "    5    Pat Richards    1\n",
    "```\n",
    "<hr>\n",
    "\n",
    "This is because `<>` or `==` operators check for equality between values, the NULL here is not any specific value, instead it's just a placeholder to denote the absense of a value and hence is ignored by the comparision operators.\n",
    "<hr>\n",
    "\n",
    "`IS NULL` OR `IS NOT NULL` should be used to handle NULL values. \n",
    "\n",
    "The query can be re-written as:\n",
    "\n",
    "```\n",
    "    SELECT Name\n",
    "    FROM Customers\n",
    "    WHERE ReferredBy <> 2 OR ReferredBy IS NULL;\n",
    "```"
   ]
  },
  {
   "cell_type": "code",
   "execution_count": 27,
   "id": "c515b248",
   "metadata": {},
   "outputs": [],
   "source": [
    "# Question No 28 ends here"
   ]
  },
  {
   "cell_type": "markdown",
   "id": "6be170a7",
   "metadata": {},
   "source": [
    "#### Q. 29"
   ]
  },
  {
   "cell_type": "code",
   "execution_count": 28,
   "id": "4d66c31b",
   "metadata": {},
   "outputs": [],
   "source": [
    "# Question No 29 starts here"
   ]
  },
  {
   "cell_type": "code",
   "execution_count": 29,
   "id": "cb67aebd",
   "metadata": {},
   "outputs": [],
   "source": [
    "# Question No 29 ends here"
   ]
  },
  {
   "cell_type": "markdown",
   "id": "7d94bb3d",
   "metadata": {},
   "source": [
    "#### Q. 30"
   ]
  },
  {
   "cell_type": "code",
   "execution_count": 30,
   "id": "0c82ff41",
   "metadata": {},
   "outputs": [],
   "source": [
    "# Question No 30 starts here"
   ]
  },
  {
   "cell_type": "code",
   "execution_count": 31,
   "id": "eb09720f",
   "metadata": {},
   "outputs": [],
   "source": [
    "df = pd.DataFrame({\n",
    "    \"Department Name\": \"D1 D2 D3\".split(),\n",
    "    \"Avg. Salary\": \"50k 10k 120k\".split()\n",
    "})"
   ]
  },
  {
   "cell_type": "code",
   "execution_count": 32,
   "id": "719f8650",
   "metadata": {},
   "outputs": [
    {
     "data": {
      "text/html": [
       "<div>\n",
       "<style scoped>\n",
       "    .dataframe tbody tr th:only-of-type {\n",
       "        vertical-align: middle;\n",
       "    }\n",
       "\n",
       "    .dataframe tbody tr th {\n",
       "        vertical-align: top;\n",
       "    }\n",
       "\n",
       "    .dataframe thead th {\n",
       "        text-align: right;\n",
       "    }\n",
       "</style>\n",
       "<table border=\"1\" class=\"dataframe\">\n",
       "  <thead>\n",
       "    <tr style=\"text-align: right;\">\n",
       "      <th></th>\n",
       "      <th>Department Name</th>\n",
       "      <th>Avg. Salary</th>\n",
       "    </tr>\n",
       "  </thead>\n",
       "  <tbody>\n",
       "    <tr>\n",
       "      <th>0</th>\n",
       "      <td>D1</td>\n",
       "      <td>50k</td>\n",
       "    </tr>\n",
       "    <tr>\n",
       "      <th>1</th>\n",
       "      <td>D2</td>\n",
       "      <td>10k</td>\n",
       "    </tr>\n",
       "    <tr>\n",
       "      <th>2</th>\n",
       "      <td>D3</td>\n",
       "      <td>120k</td>\n",
       "    </tr>\n",
       "  </tbody>\n",
       "</table>\n",
       "</div>"
      ],
      "text/plain": [
       "  Department Name Avg. Salary\n",
       "0              D1         50k\n",
       "1              D2         10k\n",
       "2              D3        120k"
      ]
     },
     "execution_count": 32,
     "metadata": {},
     "output_type": "execute_result"
    }
   ],
   "source": [
    "df"
   ]
  },
  {
   "cell_type": "code",
   "execution_count": 33,
   "id": "0dd470a9",
   "metadata": {},
   "outputs": [],
   "source": [
    "df.loc[df['Department Name'] == 'D2', 'Avg. Salary'] = '100k'"
   ]
  },
  {
   "cell_type": "code",
   "execution_count": 34,
   "id": "80e22179",
   "metadata": {},
   "outputs": [
    {
     "data": {
      "text/html": [
       "<div>\n",
       "<style scoped>\n",
       "    .dataframe tbody tr th:only-of-type {\n",
       "        vertical-align: middle;\n",
       "    }\n",
       "\n",
       "    .dataframe tbody tr th {\n",
       "        vertical-align: top;\n",
       "    }\n",
       "\n",
       "    .dataframe thead th {\n",
       "        text-align: right;\n",
       "    }\n",
       "</style>\n",
       "<table border=\"1\" class=\"dataframe\">\n",
       "  <thead>\n",
       "    <tr style=\"text-align: right;\">\n",
       "      <th></th>\n",
       "      <th>Department Name</th>\n",
       "      <th>Avg. Salary</th>\n",
       "    </tr>\n",
       "  </thead>\n",
       "  <tbody>\n",
       "    <tr>\n",
       "      <th>0</th>\n",
       "      <td>D1</td>\n",
       "      <td>50k</td>\n",
       "    </tr>\n",
       "    <tr>\n",
       "      <th>1</th>\n",
       "      <td>D2</td>\n",
       "      <td>100k</td>\n",
       "    </tr>\n",
       "    <tr>\n",
       "      <th>2</th>\n",
       "      <td>D3</td>\n",
       "      <td>120k</td>\n",
       "    </tr>\n",
       "  </tbody>\n",
       "</table>\n",
       "</div>"
      ],
      "text/plain": [
       "  Department Name Avg. Salary\n",
       "0              D1         50k\n",
       "1              D2        100k\n",
       "2              D3        120k"
      ]
     },
     "execution_count": 34,
     "metadata": {},
     "output_type": "execute_result"
    }
   ],
   "source": [
    "df"
   ]
  },
  {
   "cell_type": "code",
   "execution_count": 35,
   "id": "9c98793a",
   "metadata": {},
   "outputs": [],
   "source": [
    "# Question No 30 starts here"
   ]
  },
  {
   "cell_type": "markdown",
   "id": "3543ee6e",
   "metadata": {},
   "source": [
    "#### Q. 31"
   ]
  },
  {
   "cell_type": "code",
   "execution_count": 36,
   "id": "104f6f03",
   "metadata": {},
   "outputs": [],
   "source": [
    "# Question No 31 starts here"
   ]
  },
  {
   "cell_type": "code",
   "execution_count": 37,
   "id": "d8911374",
   "metadata": {},
   "outputs": [],
   "source": [
    "# Question No 31 ends here"
   ]
  },
  {
   "cell_type": "markdown",
   "id": "0e42e1dd",
   "metadata": {},
   "source": [
    "#### Q. 32"
   ]
  },
  {
   "cell_type": "code",
   "execution_count": 38,
   "id": "9d10f2d7",
   "metadata": {},
   "outputs": [],
   "source": [
    "# Question No 32 starts here"
   ]
  },
  {
   "cell_type": "code",
   "execution_count": 39,
   "id": "da5ffa6e",
   "metadata": {},
   "outputs": [],
   "source": [
    "df = pd.DataFrame({\n",
    "    \"Product\": \"Banana Carrots Beans Orange Orange Banana Carrots Beans Orange Banana Carrots Beans\".split(),\n",
    "    \"Amount\": [1000, 1500, 1600, 2000, 2000, 400, 1200, 1500, 4000, 2000, 2000, 2000],\n",
    "    \"Country\": [\"USA\"]*5 + [\"China\"]*4 + [\"Canada\"]*2 + [\"Mexico\"]\n",
    "})"
   ]
  },
  {
   "cell_type": "code",
   "execution_count": 40,
   "id": "2838fd7d",
   "metadata": {},
   "outputs": [
    {
     "data": {
      "text/html": [
       "<div>\n",
       "<style scoped>\n",
       "    .dataframe tbody tr th:only-of-type {\n",
       "        vertical-align: middle;\n",
       "    }\n",
       "\n",
       "    .dataframe tbody tr th {\n",
       "        vertical-align: top;\n",
       "    }\n",
       "\n",
       "    .dataframe thead th {\n",
       "        text-align: right;\n",
       "    }\n",
       "</style>\n",
       "<table border=\"1\" class=\"dataframe\">\n",
       "  <thead>\n",
       "    <tr style=\"text-align: right;\">\n",
       "      <th></th>\n",
       "      <th>Product</th>\n",
       "      <th>Amount</th>\n",
       "      <th>Country</th>\n",
       "    </tr>\n",
       "  </thead>\n",
       "  <tbody>\n",
       "    <tr>\n",
       "      <th>0</th>\n",
       "      <td>Banana</td>\n",
       "      <td>1000</td>\n",
       "      <td>USA</td>\n",
       "    </tr>\n",
       "    <tr>\n",
       "      <th>1</th>\n",
       "      <td>Carrots</td>\n",
       "      <td>1500</td>\n",
       "      <td>USA</td>\n",
       "    </tr>\n",
       "    <tr>\n",
       "      <th>2</th>\n",
       "      <td>Beans</td>\n",
       "      <td>1600</td>\n",
       "      <td>USA</td>\n",
       "    </tr>\n",
       "    <tr>\n",
       "      <th>3</th>\n",
       "      <td>Orange</td>\n",
       "      <td>2000</td>\n",
       "      <td>USA</td>\n",
       "    </tr>\n",
       "    <tr>\n",
       "      <th>4</th>\n",
       "      <td>Orange</td>\n",
       "      <td>2000</td>\n",
       "      <td>USA</td>\n",
       "    </tr>\n",
       "    <tr>\n",
       "      <th>5</th>\n",
       "      <td>Banana</td>\n",
       "      <td>400</td>\n",
       "      <td>China</td>\n",
       "    </tr>\n",
       "    <tr>\n",
       "      <th>6</th>\n",
       "      <td>Carrots</td>\n",
       "      <td>1200</td>\n",
       "      <td>China</td>\n",
       "    </tr>\n",
       "    <tr>\n",
       "      <th>7</th>\n",
       "      <td>Beans</td>\n",
       "      <td>1500</td>\n",
       "      <td>China</td>\n",
       "    </tr>\n",
       "    <tr>\n",
       "      <th>8</th>\n",
       "      <td>Orange</td>\n",
       "      <td>4000</td>\n",
       "      <td>China</td>\n",
       "    </tr>\n",
       "    <tr>\n",
       "      <th>9</th>\n",
       "      <td>Banana</td>\n",
       "      <td>2000</td>\n",
       "      <td>Canada</td>\n",
       "    </tr>\n",
       "    <tr>\n",
       "      <th>10</th>\n",
       "      <td>Carrots</td>\n",
       "      <td>2000</td>\n",
       "      <td>Canada</td>\n",
       "    </tr>\n",
       "    <tr>\n",
       "      <th>11</th>\n",
       "      <td>Beans</td>\n",
       "      <td>2000</td>\n",
       "      <td>Mexico</td>\n",
       "    </tr>\n",
       "  </tbody>\n",
       "</table>\n",
       "</div>"
      ],
      "text/plain": [
       "    Product  Amount Country\n",
       "0    Banana    1000     USA\n",
       "1   Carrots    1500     USA\n",
       "2     Beans    1600     USA\n",
       "3    Orange    2000     USA\n",
       "4    Orange    2000     USA\n",
       "5    Banana     400   China\n",
       "6   Carrots    1200   China\n",
       "7     Beans    1500   China\n",
       "8    Orange    4000   China\n",
       "9    Banana    2000  Canada\n",
       "10  Carrots    2000  Canada\n",
       "11    Beans    2000  Mexico"
      ]
     },
     "execution_count": 40,
     "metadata": {},
     "output_type": "execute_result"
    }
   ],
   "source": [
    "df"
   ]
  },
  {
   "cell_type": "code",
   "execution_count": 41,
   "id": "16ad8329",
   "metadata": {},
   "outputs": [],
   "source": [
    "df_pivot = df.pivot_table(values='Amount', index='Product', columns='Country', aggfunc='sum')"
   ]
  },
  {
   "cell_type": "code",
   "execution_count": 42,
   "id": "12efd35b",
   "metadata": {},
   "outputs": [],
   "source": [
    "df_final = df_pivot.reset_index().rename_axis(None, axis=1)"
   ]
  },
  {
   "cell_type": "code",
   "execution_count": 43,
   "id": "87fa8e7f",
   "metadata": {},
   "outputs": [
    {
     "data": {
      "text/html": [
       "<div>\n",
       "<style scoped>\n",
       "    .dataframe tbody tr th:only-of-type {\n",
       "        vertical-align: middle;\n",
       "    }\n",
       "\n",
       "    .dataframe tbody tr th {\n",
       "        vertical-align: top;\n",
       "    }\n",
       "\n",
       "    .dataframe thead th {\n",
       "        text-align: right;\n",
       "    }\n",
       "</style>\n",
       "<table border=\"1\" class=\"dataframe\">\n",
       "  <thead>\n",
       "    <tr style=\"text-align: right;\">\n",
       "      <th></th>\n",
       "      <th>Product</th>\n",
       "      <th>Canada</th>\n",
       "      <th>China</th>\n",
       "      <th>Mexico</th>\n",
       "      <th>USA</th>\n",
       "    </tr>\n",
       "  </thead>\n",
       "  <tbody>\n",
       "    <tr>\n",
       "      <th>0</th>\n",
       "      <td>Banana</td>\n",
       "      <td>2000.0</td>\n",
       "      <td>400.0</td>\n",
       "      <td>NaN</td>\n",
       "      <td>1000.0</td>\n",
       "    </tr>\n",
       "    <tr>\n",
       "      <th>1</th>\n",
       "      <td>Beans</td>\n",
       "      <td>NaN</td>\n",
       "      <td>1500.0</td>\n",
       "      <td>2000.0</td>\n",
       "      <td>1600.0</td>\n",
       "    </tr>\n",
       "    <tr>\n",
       "      <th>2</th>\n",
       "      <td>Carrots</td>\n",
       "      <td>2000.0</td>\n",
       "      <td>1200.0</td>\n",
       "      <td>NaN</td>\n",
       "      <td>1500.0</td>\n",
       "    </tr>\n",
       "    <tr>\n",
       "      <th>3</th>\n",
       "      <td>Orange</td>\n",
       "      <td>NaN</td>\n",
       "      <td>4000.0</td>\n",
       "      <td>NaN</td>\n",
       "      <td>4000.0</td>\n",
       "    </tr>\n",
       "  </tbody>\n",
       "</table>\n",
       "</div>"
      ],
      "text/plain": [
       "   Product  Canada   China  Mexico     USA\n",
       "0   Banana  2000.0   400.0     NaN  1000.0\n",
       "1    Beans     NaN  1500.0  2000.0  1600.0\n",
       "2  Carrots  2000.0  1200.0     NaN  1500.0\n",
       "3   Orange     NaN  4000.0     NaN  4000.0"
      ]
     },
     "execution_count": 43,
     "metadata": {},
     "output_type": "execute_result"
    }
   ],
   "source": [
    "df_final"
   ]
  },
  {
   "cell_type": "code",
   "execution_count": 44,
   "id": "c5678068",
   "metadata": {},
   "outputs": [],
   "source": [
    "# Question No 32 ends here"
   ]
  },
  {
   "cell_type": "markdown",
   "id": "d3546d2b",
   "metadata": {},
   "source": [
    "#### Q. 33"
   ]
  },
  {
   "cell_type": "code",
   "execution_count": 45,
   "id": "a996cc1b",
   "metadata": {},
   "outputs": [],
   "source": [
    "# Question No 33 starts here"
   ]
  },
  {
   "cell_type": "code",
   "execution_count": 94,
   "id": "63b88a17",
   "metadata": {},
   "outputs": [],
   "source": [
    "import re\n",
    "import csv\n",
    "\n",
    "\n",
    "CREDIT_CARD_NUMBER_FILEPATH = '/Users/abhishek.dalvi/Abhishek/credit-card-samples.txt'\n",
    "OUTPUT_FILEPATH = '/Users/abhishek.dalvi/Abhishek/credit-card-samples-validation.csv'\n",
    "\n",
    "def _validate_credit_card_number(credit_card_number):\n",
    "    is_valid = False\n",
    "    \n",
    "    # Pattern 1, to validate the following rules:\n",
    "    #     It must start with a 4,5 or 6.\n",
    "    #     It must contain exactly digits.\n",
    "    #     It must only consist of digits (0-9).\n",
    "    #     It may have digits in groups of 4, separated by one hyphen \"-\"\n",
    "    #     It must NOT use any other separator like ' ' , '_', etc.\n",
    "    base_pattern = r\"[456]\\d{3}-?\\d{4}-?\\d{4}-?\\d{4}$\"\n",
    "    \n",
    "    # Pattern 2, to validate the last rule:\n",
    "    #     It must NOT have 4 or more consecutive repeated digits.\n",
    "    repeating_char_pattern = r\"(\\d)\\1{3,}\"\n",
    "    \n",
    "    is_valid = bool(re.match(base_pattern, credit_card_number))\n",
    "    if is_valid and ('-' in credit_card_number):\n",
    "        is_valid = not bool(re.findall(repeating_char_pattern, credit_card_number.replace('-', '')))\n",
    "    return \"Valid\" if is_valid else \"Invalid\"\n",
    "\n",
    "def validate_credit_card_file():\n",
    "    cc_file = open(CREDIT_CARD_NUMBER_FILEPATH, 'r')\n",
    "    output_file = open(OUTPUT_FILEPATH, 'w')\n",
    "\n",
    "    validation_result = []\n",
    "    for credit_card_number in cc_file.readlines():\n",
    "        credit_card_number = credit_card_number.strip()\n",
    "        validation_result.append({\n",
    "            \"Credit Card No\": credit_card_number,\n",
    "            \"Results\": _validate_credit_card_number(credit_card_number)\n",
    "        })\n",
    "    \n",
    "    writer = csv.DictWriter(output_file, list(validation_result[0].keys()))\n",
    "    writer.writeheader()\n",
    "    writer.writerows(validation_result)\n",
    "    \n",
    "validate_credit_card_file()"
   ]
  },
  {
   "cell_type": "code",
   "execution_count": null,
   "id": "6f464792",
   "metadata": {},
   "outputs": [],
   "source": []
  }
 ],
 "metadata": {
  "kernelspec": {
   "display_name": "Python 3 (ipykernel)",
   "language": "python",
   "name": "python3"
  },
  "language_info": {
   "codemirror_mode": {
    "name": "ipython",
    "version": 3
   },
   "file_extension": ".py",
   "mimetype": "text/x-python",
   "name": "python",
   "nbconvert_exporter": "python",
   "pygments_lexer": "ipython3",
   "version": "3.8.3"
  }
 },
 "nbformat": 4,
 "nbformat_minor": 5
}
